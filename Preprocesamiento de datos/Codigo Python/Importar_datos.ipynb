{
 "cells": [
  {
   "cell_type": "markdown",
   "id": "54f41566",
   "metadata": {},
   "source": [
    "Importar librerias"
   ]
  },
  {
   "cell_type": "code",
   "execution_count": 14,
   "id": "0c602f7a",
   "metadata": {},
   "outputs": [],
   "source": [
    "import numpy as np # librería para tratamiento de operaciones matemáticas\n",
    "import matplotlib.pyplot as plt #sublibrería para gráficas\n",
    "import pandas as pd #manipular datos"
   ]
  },
  {
   "cell_type": "code",
   "execution_count": 57,
   "id": "6062a1be",
   "metadata": {},
   "outputs": [
    {
     "data": {
      "text/plain": [
       "array([['France', 44.0, 72000.0],\n",
       "       ['Spain', 27.0, 48000.0],\n",
       "       ['Germany', 30.0, 54000.0],\n",
       "       ['Spain', 38.0, 61000.0],\n",
       "       ['Germany', 40.0, nan],\n",
       "       ['France', 35.0, 58000.0],\n",
       "       ['Spain', nan, 52000.0],\n",
       "       ['France', 48.0, 79000.0],\n",
       "       ['Germany', 50.0, 83000.0],\n",
       "       ['France', 37.0, 67000.0]], dtype=object)"
      ]
     },
     "execution_count": 57,
     "metadata": {},
     "output_type": "execute_result"
    }
   ],
   "source": [
    "#Importar el data set\n",
    "\n",
    "url = \"https://raw.githubusercontent.com/omarluna18/Machine-Learning-R-y-Python/main/Preprocesamiento%20de%20datos/Datos/Data.csv\"\n",
    "dataset = pd.read_csv(url)\n",
    "x = dataset.iloc[:,:-1].values # Para seleccionar todas las columnas menos la última y solo los valores\n",
    "y = dataset.iloc[:,3].values #Para seleccionar la 4ta columna (en python comienza la cuenta en cero) solo los valores\n",
    "x"
   ]
  },
  {
   "cell_type": "markdown",
   "id": "4be37e7b",
   "metadata": {},
   "source": [
    "Reemplazar datos faltantes"
   ]
  },
  {
   "cell_type": "code",
   "execution_count": 58,
   "id": "0d6fbda8",
   "metadata": {},
   "outputs": [],
   "source": [
    "from sklearn.impute import SimpleImputer"
   ]
  },
  {
   "cell_type": "code",
   "execution_count": 59,
   "id": "970b3a92",
   "metadata": {},
   "outputs": [],
   "source": [
    "imputer = SimpleImputer(missing_values = np.nan, strategy = \"mean\")\n",
    "imputer = imputer.fit(x[:, 1:3])\n",
    "x[:, 1:3] = imputer.transform(x[:, 1:3])"
   ]
  },
  {
   "cell_type": "code",
   "execution_count": null,
   "id": "718bf5de",
   "metadata": {},
   "outputs": [],
   "source": [
    "    \n",
    "    "
   ]
  }
 ],
 "metadata": {
  "kernelspec": {
   "display_name": "Python 3 (ipykernel)",
   "language": "python",
   "name": "python3"
  },
  "language_info": {
   "codemirror_mode": {
    "name": "ipython",
    "version": 3
   },
   "file_extension": ".py",
   "mimetype": "text/x-python",
   "name": "python",
   "nbconvert_exporter": "python",
   "pygments_lexer": "ipython3",
   "version": "3.9.7"
  }
 },
 "nbformat": 4,
 "nbformat_minor": 5
}
